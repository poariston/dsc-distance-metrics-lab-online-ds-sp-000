{
 "cells": [
  {
   "cell_type": "markdown",
   "metadata": {},
   "source": [
    "# Distance Metrics - Lab\n",
    "\n",
    "## Introduction\n",
    "\n",
    "In this lab, you'll calculate various distances between multiple points using the distance metrics you learned about!\n",
    "\n",
    "## Objectives\n",
    "\n",
    "In this lab you will:\n",
    "\n",
    "- Calculate Manhattan distance between two points \n",
    "- Calculate Euclidean distance between two points\n",
    "- Calculate Minkowski distance between two points\n",
    "\n",
    "## Getting Started\n",
    "\n",
    "You'll start by writing a generalized function to calculate any of the three distance metrics you've learned about. Let's review what you know so far:\n",
    "\n",
    "> The **_Manhattan distance_** and **_Euclidean distance_** are both special cases of **_Minkowski distance_**. \n",
    "\n",
    "\n",
    "Take a look at the formula for Minkowski distance below:\n",
    "\n",
    "$$\\large d(x,y) = \\left(\\sum_{i=1}^{n}|x_i - y_i|^c\\right)^\\frac{1}{c}$$  \n",
    "\n",
    "**_Manhattan distance_** is a special case where $c=1$ in the equation above (which means that you can remove the root operation and just keep the summation).  \n",
    "\n",
    "**_Euclidean distance_** is a special case where $c=2$ in the equation above.\n",
    "\n",
    "Knowing this, you can create a generalized `distance()` function that calculates Minkowski distance, and takes in `c` as a parameter. That way, you can use the same function for every problem, and still calculate Manhattan and Euclidean distance metrics by just passing in the appropriate values for the `c` parameter!\n",
    "\n",
    "In the cell below:\n",
    "\n",
    "* Complete the `distance()` function which should implement the Minkowski distance equation above to return the distance, a single number  \n",
    "* This function should take in 4 arguments:\n",
    "    * `a`: a tuple or array that describes a vector in n-dimensional space  \n",
    "    * `b`: a tuple or array that describes a vector in n-dimensional space (this must be the same length as `a`!)\n",
    "    * `c`: which tells us the norm to calculate the vector space (if set to `1`, the result will be Manhattan, while `2` will calculate Euclidean distance) \n",
    "    * `verbose`: set to `True` by default. If true, the function should print out if the distance metric returned is a measurement of Manhattan, Euclidean, or Minkowski distance \n",
    "    \n",
    "* Since euclidean distance is the most common distance metric used, this function should default to using `c=2` if no value is set for `c` \n",
    "\n",
    "\n",
    "**_HINT:_** \n",
    "\n",
    "1. You can avoid using a `for` loop like we did in the previous lesson by simply converting the tuples to NumPy arrays \n",
    "\n",
    "2. Use `np.power()` as an easy way to implement both squares and square roots. `np.power(a, 3)` will return the cube of `a`, while `np.power(a, 1/3)` will return the cube root of 3. For more information on this function, refer the [NumPy documentation](https://docs.scipy.org/doc/numpy-1.15.1/reference/generated/numpy.power.html)!"
   ]
  },
  {
   "cell_type": "code",
   "execution_count": 12,
   "metadata": {},
   "outputs": [
    {
     "name": "stdout",
     "output_type": "stream",
     "text": [
      "Euclidian distance\n",
      "5.0\n",
      "Manhattan distance\n",
      "7.0\n",
      "Minkowski distance\n",
      "4.497941445275415\n"
     ]
    }
   ],
   "source": [
    "import numpy as np\n",
    "\n",
    "# Complete this function! \n",
    "def distance(a,b,c=2,verbose=True):\n",
    "    \"\"\"\n",
    "    a and b are tuples, dimension n\n",
    "    c= Minkowski distance coefficient \n",
    "    \"\"\"\n",
    "    if verbose == True:\n",
    "        \n",
    "        if c==2:\n",
    "            print('Euclidian distance')\n",
    "        if c==1:\n",
    "            print('Manhattan distance')\n",
    "        if (c==1 or c==2) == False:\n",
    "            print('Minkowski distance')\n",
    "        \n",
    "    if c==0:\n",
    "        print('problem c=0')\n",
    "        result=0\n",
    "    else:\n",
    "        #convert a and b to numpy arrays\n",
    "        aa=np.array(a)\n",
    "        bb=np.array(b)\n",
    "        # each element of the difference aa-bb exponentiated to power c\n",
    "        power_of_diff=np.power(np.abs(aa-bb),c)\n",
    "        # sum of all elements\n",
    "        sum_of_power=np.sum(power_of_diff)\n",
    "        # resulting number exponentiated to power 1/c\n",
    "        result=np.power(sum_of_power,1/c)\n",
    "    return result\n",
    "    \n",
    "    \n",
    "    pass\n",
    "\n",
    "\n",
    "\n",
    "test_point_1 = (1, 2)\n",
    "test_point_2 = (4, 6)\n",
    "print(distance(test_point_1, test_point_2)) # Expected Output: 5.0\n",
    "print(distance(test_point_1, test_point_2, c=1)) # Expected Output: 7.0\n",
    "print(distance(test_point_1, test_point_2, c=3)) # Expected Output: 4.497941445275415"
   ]
  },
  {
   "cell_type": "code",
   "execution_count": 7,
   "metadata": {},
   "outputs": [
    {
     "data": {
      "text/plain": [
       "3.4641016151377544"
      ]
     },
     "execution_count": 7,
     "metadata": {},
     "output_type": "execute_result"
    }
   ],
   "source": [
    "import numpy as np\n",
    "a=(1,2,3)\n",
    "type(a)\n",
    "b=(3,4,5)\n",
    "aa=np.array(a)\n",
    "type(aa)\n",
    "bb=np.array(b)\n",
    "bb\n",
    "cc=np.power((aa-bb),2)\n",
    "cc\n",
    "dd=np.sum(cc)\n",
    "ee=np.power(dd,1/2)\n",
    "ee"
   ]
  },
  {
   "cell_type": "code",
   "execution_count": null,
   "metadata": {},
   "outputs": [],
   "source": []
  },
  {
   "cell_type": "markdown",
   "metadata": {},
   "source": [
    "Great job! \n",
    "\n",
    "Now, use your function to calculate distances between points: \n",
    "\n",
    "## Problem 1\n",
    "\n",
    "Calculate the **_Euclidean distance_** between the following points in 5-dimensional space:\n",
    "\n",
    "Point 1: (-2, -3.4, 4, 15, 7)\n",
    "\n",
    "Point 2: (3, -1.2, -2, -1, 7)"
   ]
  },
  {
   "cell_type": "code",
   "execution_count": 13,
   "metadata": {},
   "outputs": [
    {
     "name": "stdout",
     "output_type": "stream",
     "text": [
      "Euclidian distance\n",
      "17.939899665271266\n",
      "Euclidian distance\n",
      "17.939899665271266\n"
     ]
    }
   ],
   "source": [
    "# Expected Output: 17.939899665271266\n",
    "point1=(-2,-3.4,4,15,7)\n",
    "point2=(3,-1.2,-2,-1,7)\n",
    "print(distance(point1, point2))\n",
    "print(distance(point1, point2,2))\n"
   ]
  },
  {
   "cell_type": "markdown",
   "metadata": {},
   "source": [
    "## Problem 2\n",
    "\n",
    "Calculate the **_Manhattan distance_** between the following points in 10-dimensional space:\n",
    "\n",
    "Point 1: \\[0, 0, 0, 7, 16, 2, 0, 1, 2, 1\\]  \n",
    "Point 2: \\[1, -1, 5, 7, 14, 3, -2, 3, 3, 6\\]"
   ]
  },
  {
   "cell_type": "code",
   "execution_count": 14,
   "metadata": {},
   "outputs": [
    {
     "name": "stdout",
     "output_type": "stream",
     "text": [
      "Manhattan distance\n",
      "20.0\n"
     ]
    }
   ],
   "source": [
    "# Expected Output: 20.0\n",
    "Point1 = [0, 0, 0, 7, 16, 2, 0, 1, 2, 1]\n",
    "Point2 = [1, -1, 5, 7, 14, 3, -2, 3, 3, 6]\n",
    "print(distance(Point1, Point2,1))\n"
   ]
  },
  {
   "cell_type": "markdown",
   "metadata": {},
   "source": [
    "## Problem 3\n",
    "\n",
    "Calculate the **_Minkowski distance_** with a norm of 3.5 between the following points:\n",
    "\n",
    "Point 1: (-2, 7, 3.4)  \n",
    "Point 2: (3, 4, 1.5)"
   ]
  },
  {
   "cell_type": "code",
   "execution_count": 20,
   "metadata": {},
   "outputs": [
    {
     "name": "stdout",
     "output_type": "stream",
     "text": [
      "Minkowski distance\n",
      "5.268789659188307\n",
      "Minkowski distance\n",
      "181783.74145983343\n",
      "Minkowski distance\n",
      "5.0\n"
     ]
    }
   ],
   "source": [
    "# Expected Output: 5.268789659188307\n",
    "Point1=(-2, 7, 3.4)\n",
    "Point2=(3, 4, 1.5)\n",
    "print(distance(Point1, Point2,3.5))\n",
    "print(distance(Point1, Point2,0.1))\n",
    "print(distance(Point1, Point2,100))\n",
    "\n"
   ]
  },
  {
   "cell_type": "markdown",
   "metadata": {},
   "source": [
    "## Summary\n",
    "\n",
    "Great job! Now that you know about the various distance metrics, you can use them to writing a K-Nearest Neighbors classifier from scratch!"
   ]
  }
 ],
 "metadata": {
  "kernelspec": {
   "display_name": "Python 3",
   "language": "python",
   "name": "python3"
  },
  "language_info": {
   "codemirror_mode": {
    "name": "ipython",
    "version": 3
   },
   "file_extension": ".py",
   "mimetype": "text/x-python",
   "name": "python",
   "nbconvert_exporter": "python",
   "pygments_lexer": "ipython3",
   "version": "3.6.9"
  }
 },
 "nbformat": 4,
 "nbformat_minor": 2
}
